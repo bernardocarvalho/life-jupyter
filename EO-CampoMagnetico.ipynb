{
 "cells": [
  {
   "cell_type": "markdown",
   "metadata": {},
   "source": [
    "## Campo magnético produzido por um enrolamento percorrido por uma corrente eléctrica\n",
    "## Lei de Faraday"
   ]
  },
  {
   "cell_type": "code",
   "execution_count": 54,
   "metadata": {},
   "outputs": [],
   "source": [
    "# Retrieve libraries\n",
    "from __future__ import print_function\n",
    "import matplotlib.pyplot as plt\n",
    "import numpy as np\n",
    "from scipy import constants \n",
    "%matplotlib inline\n"
   ]
  },
  {
   "cell_type": "code",
   "execution_count": 55,
   "metadata": {},
   "outputs": [],
   "source": [
    "# B-field in a center of a coil Equ 6\n",
    "def BfieldZ(i,r,n):\n",
    "    return constants.mu_0 *n * i /2/r\n",
    "\n",
    "# B-field in the z axys of a coil Equ 7\n",
    "def Axys_factor(r,z):\n",
    "    return (1 + (z/r)**2)**(-3.0/2)\n",
    "\n",
    "\n",
    "# B-field in the z axys of a coil Equ 7\n",
    "def BfieldZ_axys(i,r,n,z):\n",
    "    bz0=BfieldZ(i,r,n)\n",
    "    bz = bz0 * Axys_factor(r,z)# (1 + (z/r)**2)**(-3.0/2)\n",
    "    return bz\n"
   ]
  },
  {
   "cell_type": "code",
   "execution_count": 56,
   "metadata": {},
   "outputs": [
    {
     "name": "stdout",
     "output_type": "stream",
     "text": [
      "Campo 0.017952 T\n"
     ]
    }
   ],
   "source": [
    "#Enrolamento de campo\n",
    "N=2000; R = 0.07; I =1; \n",
    "print(\"Campo %g T\" %BfieldZ(I,R,N) )"
   ]
  },
  {
   "cell_type": "code",
   "execution_count": 60,
   "metadata": {},
   "outputs": [
    {
     "data": {
      "text/plain": [
       "array([0.00036934, 0.00055402, 0.00073869, 0.00092336])"
      ]
     },
     "execution_count": 60,
     "metadata": {},
     "output_type": "execute_result"
    }
   ],
   "source": [
    "# Quadro 2 Amplitude da Corrente\n",
    "def Ienr(e0,r):\n",
    "    return e0/r\n",
    "R1=10e3; Renr= 830\n",
    "V=np.array([4,6,8,10])\n",
    "I=Ienr(V,R1+Renr)\n",
    "#I*1e3 #print(\"Ienr %g mA\" %(I*1e3) )\n",
    "I"
   ]
  },
  {
   "cell_type": "code",
   "execution_count": 58,
   "metadata": {},
   "outputs": [
    {
     "data": {
      "text/plain": [
       "array([6.63045541e-06, 9.94568311e-06, 1.32609108e-05, 1.65761385e-05])"
      ]
     },
     "execution_count": 58,
     "metadata": {},
     "output_type": "execute_result"
    }
   ],
   "source": [
    "# Campo B esperado no centro da bobine em T\n",
    "BfieldZ(I,R,N)"
   ]
  },
  {
   "cell_type": "code",
   "execution_count": 59,
   "metadata": {},
   "outputs": [
    {
     "data": {
      "text/plain": [
       "1.022"
      ]
     },
     "execution_count": 59,
     "metadata": {},
     "output_type": "execute_result"
    }
   ],
   "source": [
    "# Quadro 3, Fem na Sonda\n",
    "def femT(V2,r2,ris):\n",
    "    return V2*(r2+ris)/r2\n",
    "R2=10e3;Ris=220\n",
    "femT(1,R2,Ris)\n"
   ]
  },
  {
   "cell_type": "code",
   "execution_count": 41,
   "metadata": {},
   "outputs": [
    {
     "data": {
      "text/plain": [
       "array([9.59722272e-05, 1.43958341e-04, 1.91944454e-04, 2.39930568e-04])"
      ]
     },
     "execution_count": 41,
     "metadata": {},
     "output_type": "execute_result"
    }
   ],
   "source": [
    "# Quadro 3 Campo B triangular Equ. 22\n",
    "Freq=50.0; T=1.0/Freq\n",
    "def Btriang(e, T,nt, rt,angle):\n",
    "    return T*e/4/nt/np.pi/rt**2/np.cos(angle)\n",
    "NT=2000;RT=0.00175;\n",
    "Btriang(I, T,NT, RT,0)"
   ]
  },
  {
   "cell_type": "code",
   "execution_count": 53,
   "metadata": {},
   "outputs": [
    {
     "data": {
      "text/plain": [
       "array([2.00409914e-04, 1.94427779e-04, 1.78155616e-04, 1.55622121e-04,\n",
       "       1.31172648e-04, 1.07985574e-04, 5.72262986e-05, 3.77949625e-05,\n",
       "       1.51561005e-05])"
      ]
     },
     "execution_count": 53,
     "metadata": {},
     "output_type": "execute_result"
    }
   ],
   "source": [
    "# Ponto 3.5\n",
    "Freq=100\n",
    "Cnts19= constants.mu_0/2*N*NT*np.pi*RT**2/R*2*np.pi\n",
    "Cnts19*Freq\n",
    "I35=Ienr(10,R1+Renr)\n",
    "eT=Cnts19*I35*Freq\n",
    "\n",
    "z=np.array([ 0,1,2,3,4,5,8,10,15])*0.01\n",
    "eTz=eT*Axys_factor(R,z)\n",
    "eTz"
   ]
  },
  {
   "cell_type": "code",
   "execution_count": null,
   "metadata": {},
   "outputs": [],
   "source": []
  }
 ],
 "metadata": {
  "kernelspec": {
   "display_name": "Python 3",
   "language": "python",
   "name": "python3"
  },
  "language_info": {
   "codemirror_mode": {
    "name": "ipython",
    "version": 3
   },
   "file_extension": ".py",
   "mimetype": "text/x-python",
   "name": "python",
   "nbconvert_exporter": "python",
   "pygments_lexer": "ipython3",
   "version": "3.6.6"
  }
 },
 "nbformat": 4,
 "nbformat_minor": 2
}
